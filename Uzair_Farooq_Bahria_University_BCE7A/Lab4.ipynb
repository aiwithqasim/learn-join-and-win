{
 "cells": [
  {
   "cell_type": "code",
   "execution_count": 2,
   "metadata": {},
   "outputs": [
    {
     "name": "stdout",
     "output_type": "stream",
     "text": [
      "[('Chemistry', 87), ('Physics', 83), ('Math', 81)]\n"
     ]
    }
   ],
   "source": [
    "from collections import Counter\n",
    "\n",
    "data = {'Math': 81, 'Physics': 83, 'Chemistry': 87}\n",
    "\n",
    "sorted_data = sorted(data.items(), key=lambda x: x[1], reverse=True)\n",
    "\n",
    "print(sorted_data)"
   ]
  },
  {
   "cell_type": "code",
   "execution_count": 3,
   "metadata": {},
   "outputs": [
    {
     "name": "stdout",
     "output_type": "stream",
     "text": [
      "Original dictionary:\n",
      "{'students': [{'firstName': 'Nikki', 'lastName': 'Roysden'}, {'firstName': 'Mervin', 'lastName': 'Friedland'}, {'firstName': 'Aron', 'lastName': 'Wilkins'}], 'teachers': [{'firstName': 'Amberly', 'lastName': 'Calico'}, {'firstName': 'Regine', 'lastName': 'Agtarap'}]}\n",
      "Json file to dictionary:\n",
      "{'students': [{'firstName': 'Nikki', 'lastName': 'Roysden'}, {'firstName': 'Mervin', 'lastName': 'Friedland'}, {'firstName': 'Aron', 'lastName': 'Wilkins'}], 'teachers': [{'firstName': 'Amberly', 'lastName': 'Calico'}, {'firstName': 'Regine', 'lastName': 'Agtarap'}]}\n"
     ]
    }
   ],
   "source": [
    "import json\n",
    "\n",
    "# Original dictionary\n",
    "original_dict = {\n",
    "    'students': [\n",
    "        {'firstName': 'Nikki', 'lastName': 'Roysden'},\n",
    "        {'firstName': 'Mervin', 'lastName': 'Friedland'},\n",
    "        {'firstName': 'Aron', 'lastName': 'Wilkins'}\n",
    "    ],\n",
    "    'teachers': [\n",
    "        {'firstName': 'Amberly', 'lastName': 'Calico'},\n",
    "        {'firstName': 'Regine', 'lastName': 'Agtarap'}\n",
    "    ]\n",
    "}\n",
    "\n",
    "json_file_path = 'data.json'\n",
    "with open(json_file_path, 'w') as json_file:\n",
    "    json.dump(original_dict, json_file, indent=4)\n",
    "with open(json_file_path, 'r') as json_file:\n",
    "    json_data = json.load(json_file)\n",
    "print(\"Original dictionary:\")\n",
    "print(original_dict)\n",
    "print(\"Json file to dictionary:\")\n",
    "print(json_data)\n"
   ]
  },
  {
   "cell_type": "code",
   "execution_count": 4,
   "metadata": {},
   "outputs": [
    {
     "name": "stdout",
     "output_type": "stream",
     "text": [
      "Original list of dictionary:\n",
      "[{'id': '#FF0000', 'color': 'Red'}, {'id': '#800000', 'color': 'Maroon'}, {'id': '#FFFF00', 'color': 'Yellow'}, {'id': '#808000', 'color': 'Olive'}]\n",
      "Remove id #FF0000 from the said list of dictionary:\n",
      "[{'id': '#800000', 'color': 'Maroon'}, {'id': '#FFFF00', 'color': 'Yellow'}, {'id': '#808000', 'color': 'Olive'}]\n"
     ]
    }
   ],
   "source": [
    "\n",
    "original_list = [\n",
    "    {'id': '#FF0000', 'color': 'Red'},\n",
    "    {'id': '#800000', 'color': 'Maroon'},\n",
    "    {'id': '#FFFF00', 'color': 'Yellow'},\n",
    "    {'id': '#808000', 'color': 'Olive'}\n",
    "]\n",
    "id_to_remove = '#FF0000'\n",
    "updated_list = [d for d in original_list if d['id'] != id_to_remove]\n",
    "print(\"Original list of dictionary:\")\n",
    "print(original_list)\n",
    "print(f\"Remove id {id_to_remove} from the said list of dictionary:\")\n",
    "print(updated_list)\n"
   ]
  },
  {
   "cell_type": "code",
   "execution_count": 5,
   "metadata": {},
   "outputs": [
    {
     "name": "stdout",
     "output_type": "stream",
     "text": [
      "Enter a long string containing multiple words: I love lexus\n",
      "Output: lexus love I\n"
     ]
    }
   ],
   "source": [
    "def reverse_words_in_string(input_string):\n",
    "    words = input_string.split()\n",
    "    reversed_string = ' '.join(reversed(words))\n",
    "    return reversed_string\n",
    "user_input = input(\"Enter a long string containing multiple words: \")\n",
    "result = reverse_words_in_string(user_input)\n",
    "print(\"Output:\", result)"
   ]
  },
  {
   "cell_type": "code",
   "execution_count": 6,
   "metadata": {},
   "outputs": [
    {
     "name": "stdout",
     "output_type": "stream",
     "text": [
      "The 6th Fibonacci number is: 8\n"
     ]
    }
   ],
   "source": [
    "def fibonacci(n):\n",
    "    if n <= 0:\n",
    "        return 0\n",
    "    elif n == 1:\n",
    "        return 1\n",
    "    else:\n",
    "        return fibonacci(n - 1) + fibonacci(n - 2)\n",
    "n = 6\n",
    "result = fibonacci(n)\n",
    "\n",
    "print(f\"The {n}th Fibonacci number is: {result}\")\n"
   ]
  },
  {
   "cell_type": "code",
   "execution_count": null,
   "metadata": {},
   "outputs": [],
   "source": []
  }
 ],
 "metadata": {
  "kernelspec": {
   "display_name": "Python 3",
   "language": "python",
   "name": "python3"
  },
  "language_info": {
   "codemirror_mode": {
    "name": "ipython",
    "version": 3
   },
   "file_extension": ".py",
   "mimetype": "text/x-python",
   "name": "python",
   "nbconvert_exporter": "python",
   "pygments_lexer": "ipython3",
   "version": "3.8.3"
  }
 },
 "nbformat": 4,
 "nbformat_minor": 4
}
